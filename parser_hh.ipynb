{
 "cells": [
  {
   "cell_type": "code",
   "execution_count": 11,
   "metadata": {
    "collapsed": false
   },
   "outputs": [
    {
     "name": "stdout",
     "output_type": "stream",
     "text": [
      "{'title': 'Ведущий программист 1C', 'duties': ['Превосходно владеть средой разработки прикладных решений на платформе «1С: Предприятие 8.1/2/3». Грамотно проектировать архитектурные решения, писать...']}\n",
      "{'title': 'Программист PHP', 'duties': ['Система мотивации и распределение 50% прибыли между сотрудниками, проработавшими не менее года. Знание PHP и желание в нем разбираться. ']}\n",
      "{'title': 'Ведущий программист 1C', 'duties': ['Высшее или неоконченное высшее образование. Уверенные знания платформы 1С. Знание запросов, СКД. Желательно наличие сертификатов 1С 8. ']}\n",
      "{'title': 'Разработчик', 'duties': ['Знание Laravel 5.3 и желание изучить 5.4. Знание PostgreSQL является плюсом. Построение RESTful API. Понимание принципа работы проекта...']}\n",
      "{'title': 'Ведущий разработчик С++', 'duties': ['Высшее образование в области математики и(или) информатики. 3+ лет опыта работы программирования на С++ под Windows. ']}\n",
      "{'title': 'Программист C/C++/C#', 'duties': ['Высшее/незаконченное высшее образование. Разработка на C/С++/C# под Windows/Linux. Опыт работы с потоковым видео. Понимание протоколов RTP...']}\n",
      "{'title': 'Web-разработчик', 'duties': ['Высшее математическое или техническое образование. Готовность к разработке как frontend, так и backend компонент. Знания в области веб-разработки (HTML...']}\n",
      "{'title': 'Программист С++', 'duties': ['Rather than splitting these activities between several people. Fluent in C++. Language: Fluent English is enough, German a plus. ']}\n",
      "{'title': 'Программист-разработчик', 'duties': ['Опыт работы с JavaScript (ES6). Опыт разработки с использованием NodeJS. Опыт работы с Git. Опыт работы с базой MongoDB. ']}\n",
      "{'title': 'Разработчик по направлению Blockchain', 'duties': ['Высшее образование (желательно техническое). Знание HTML5, CSS3, SASS/LESS/Stylus. Опыт использования JavaScript, знание jQuery и любого из...']}\n",
      "{'title': 'Программист 1C', 'duties': ['Опыт работы на аналогичной позиции от 1 года. Наличие в активе внедренных проектов, личное участие в разработке и внедрении решений...']}\n",
      "{'title': 'Senior программист Android (Java)', 'duties': ['Опыт разработки мобильных приложений под Android больше двух лет. Знание Android SDK (API lvl > 14), Android Memory Management, Android architecture...']}\n",
      "{'title': 'SAP consultant/ABAP programmer (SAP консультант - ABAP программист)', 'duties': ['Углубленные знания SAP ERP в рамках любого из модулей: FI, CO, SD, MM, WM, LE, EDI. Опыт доработки текущей функциональности. ']}\n",
      "{'title': 'Руководитель проектов 1C (программист)', 'duties': ['Практический опыт и отличные навыки программирования в 1С v8. Наличие сертификатов приветствуется. Навыки и опыт в обновлении измененных...']}\n",
      "{'title': 'Haxe разработчик (gamedev)', 'duties': ['Опыт разработки клиент-серверных приложений от 2-3 лет (социальных или мобильных). Опыт работы в геймдев. Уверенное владение Haxe. ']}\n",
      "{'title': 'Java разработчик на аналитическую платформу', 'duties': ['По результатам итерации проводим ретроспективы, выявляющие наши узкие места. Технологический стек. Java 8, Spring Framework 4.x (Core, Web, Integration...']}\n",
      "{'title': 'Python backend-разработчик', 'duties': ['Проект движется к хайлоад - поэтому приветствуется опыт организации безотказных нагруженных систем, и/или желание в этой области разбираться. ']}\n",
      "{'title': 'Javascript/Node.js разработчик для open source криптовалюты', 'duties': ['Умение писать качественный легко читаемый код, в котором легко разберётся другой программист или вы сами через год. Хорошим считается код...']}\n",
      "{'title': 'Разработчик в команду Архитектура', 'duties': ['Аналитическое мышление (умение анализировать информацию, выдвигать и проверять гипотезы), способность находить решения и брать на себя ответственность. Уверенное владение Java...']}\n",
      "{'title': 'Senior Full Stack Web Developer (Teamlead)', 'duties': ['Более 5 лет веб-программирования. Отличное знание технологий разработки фронтенда. Опыт программирования на PHP. Умение вести аргументированную дискуссию. ']}\n"
     ]
    }
   ],
   "source": [
    "import urllib.request\n",
    "from bs4 import BeautifulSoup\n",
    "\n",
    "\n",
    "def get_html(url):\n",
    "    response = urllib.request.urlopen(url)\n",
    "    return response.read()\n",
    "\n",
    "def get_page_count(html)\n",
    "    \n",
    "def parse(html):\n",
    "    cl1 ='bloko-gap bloko-gap_top'\n",
    "    cl2 = 'search-result-description'\n",
    "    cl3 = 'search-result-item__snippet'\n",
    "    \n",
    "    vacd =[]\n",
    "\n",
    "    soup = BeautifulSoup(html,\"html.parser\")\n",
    "    dannie = soup.find('div',class_ = cl1)\n",
    "    for vac in dannie.find_all('div', class_ = cl2):\n",
    "        vacd.append({\n",
    "                'title': vac.a.text,\n",
    "                'duties': [duties.text for duties in vac.find_all('div',class_ = cl3)[1:]]\n",
    "            })\n",
    "        \n",
    "    #for i in vacd:\n",
    "    #    print(i)\n",
    "    return vacd\n",
    "    \n",
    "def main():\n",
    "    url = 'https://hh.ru/search/vacancy?text=%D0%BF%D1%80%D0%BE%D0%B3%D1%80%D0%B0%D0%BC%D0%BC%D0%B8%D1%81%D1%82&only_with_salary=false&search_field=name&area=1&enable_snippets=true&clusters=true&salary='\n",
    "    \n",
    "    for i in parse(get_html(url)):\n",
    "        print(i)\n",
    "\n",
    "if __name__ == '__main__':\n",
    "    main()"
   ]
  },
  {
   "cell_type": "code",
   "execution_count": null,
   "metadata": {
    "collapsed": true
   },
   "outputs": [],
   "source": []
  }
 ],
 "metadata": {
  "kernelspec": {
   "display_name": "Python 3",
   "language": "python",
   "name": "python3"
  },
  "language_info": {
   "codemirror_mode": {
    "name": "ipython",
    "version": 3
   },
   "file_extension": ".py",
   "mimetype": "text/x-python",
   "name": "python",
   "nbconvert_exporter": "python",
   "pygments_lexer": "ipython3",
   "version": "3.4.3"
  }
 },
 "nbformat": 4,
 "nbformat_minor": 0
}
